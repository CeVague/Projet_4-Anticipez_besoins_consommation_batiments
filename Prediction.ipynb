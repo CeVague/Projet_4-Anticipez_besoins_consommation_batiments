{
 "cells": [
  {
   "cell_type": "code",
   "execution_count": 23,
   "id": "833e052a",
   "metadata": {},
   "outputs": [],
   "source": [
    "import pandas as pd\n",
    "import numpy as np\n",
    "from math import *\n",
    "from sklearn import model_selection, metrics, dummy"
   ]
  },
  {
   "cell_type": "code",
   "execution_count": 2,
   "id": "1be419be",
   "metadata": {},
   "outputs": [],
   "source": [
    "from sklearn.ensemble import RandomForestRegressor"
   ]
  },
  {
   "cell_type": "code",
   "execution_count": 3,
   "id": "c2c9df5b",
   "metadata": {},
   "outputs": [],
   "source": [
    "import pickle\n",
    "\n",
    "with open(\"./data/pickle\", 'rb') as f:\n",
    "    data_X, data_Y = pickle.load(f)"
   ]
  },
  {
   "cell_type": "code",
   "execution_count": 4,
   "id": "6b7e976f",
   "metadata": {},
   "outputs": [],
   "source": [
    "# 0 pour les données sans star, 1 pour energystar\n",
    "data_X = data_X[0]\n",
    "data_Y = data_Y[0]"
   ]
  },
  {
   "cell_type": "code",
   "execution_count": 5,
   "id": "14ef0650",
   "metadata": {},
   "outputs": [
    {
     "data": {
      "text/plain": [
       "['DataYear',\n",
       " 'Latitude',\n",
       " 'Longitude',\n",
       " 'YearBuilt',\n",
       " 'NumberofBuildings',\n",
       " 'NumberofFloors',\n",
       " 'PropertyGFATotal',\n",
       " 'PropertyGFAParking',\n",
       " 'PropertyGFABuilding(s)',\n",
       " 'LargestPropertyUseTypeGFA',\n",
       " 'SiteEUI(kBtu/sf)',\n",
       " 'SiteEUIWN(kBtu/sf)',\n",
       " 'SourceEUI(kBtu/sf)',\n",
       " 'SourceEUIWN(kBtu/sf)',\n",
       " 'SiteEnergyUseWN(kBtu)',\n",
       " 'SteamUse(kBtu)',\n",
       " 'Electricity(kWh)',\n",
       " 'Electricity(kBtu)',\n",
       " 'NaturalGas(therms)',\n",
       " 'NaturalGas(kBtu)',\n",
       " 'GHGEmissionsIntensity']"
      ]
     },
     "execution_count": 5,
     "metadata": {},
     "output_type": "execute_result"
    }
   ],
   "source": [
    "col_num = list(data_X.select_dtypes(include=['float', 'int']).columns)\n",
    "col_num"
   ]
  },
  {
   "cell_type": "code",
   "execution_count": 6,
   "id": "c1807bea",
   "metadata": {},
   "outputs": [],
   "source": [
    "X_train, X_test, y_train, y_test = model_selection.train_test_split(data_X[col_num], data_Y['Energy'], test_size=0.3)"
   ]
  },
  {
   "cell_type": "code",
   "execution_count": 7,
   "id": "5d5e1a8f",
   "metadata": {},
   "outputs": [],
   "source": [
    "from sklearn.model_selection import KFold"
   ]
  },
  {
   "cell_type": "code",
   "execution_count": 8,
   "id": "f8f79a73",
   "metadata": {},
   "outputs": [],
   "source": [
    "kf = KFold(n_splits=8)"
   ]
  },
  {
   "cell_type": "code",
   "execution_count": 48,
   "id": "29601fbe",
   "metadata": {},
   "outputs": [
    {
     "name": "stdout",
     "output_type": "stream",
     "text": [
      "R2 :  -0.03935771369497176\n",
      "R2 :  -0.037885434744178936\n",
      "R2 :  -0.020967607993529813\n",
      "R2 :  -0.09025288651906405\n",
      "R2 :  -0.023981711211913948\n",
      "R2 :  -0.02139738709119987\n",
      "R2 :  -0.07694464467844642\n",
      "R2 :  -0.06193588397876704\n",
      "Score R2 final : 0.04659040873900898\n",
      "Score RMSE final : 242323483525120.0\n",
      "Score RMSLE final : 2.219035920229234\n"
     ]
    }
   ],
   "source": [
    "dum = dummy.DummyRegressor(strategy='median')\n",
    "\n",
    "score_final = {'R2':0, 'RMSE':0, 'RMSLE':0}\n",
    "\n",
    "for train, test in kf.split(data_X):\n",
    "    # Entraînement\n",
    "    dum.fit(data_X.iloc[train], data_Y.iloc[train])\n",
    "\n",
    "    # Prédiction sur le jeu de test\n",
    "    y_pred = dum.predict(data_X.iloc[test])\n",
    "\n",
    "    \n",
    "    y_test = data_Y.iloc[test]\n",
    "    \n",
    "    # Evaluate\n",
    "    score = metrics.r2_score(y_test, y_pred)\n",
    "    print('R2 : ', score)\n",
    "    score_final['R2'] += abs(score)\n",
    "    \n",
    "    score = metrics.mean_squared_error(y_test, y_pred, squared=True)\n",
    "    #print('RMSE : ', score)\n",
    "    score_final['RMSE'] += score\n",
    "    \n",
    "    score = metrics.mean_squared_log_error(y_test.applymap(lambda x:max(0, x)), y_pred, squared=True)\n",
    "    #print('RMSLE : ', score)\n",
    "    score_final['RMSLE'] += score\n",
    "\n",
    "for k, score in score_final.items():\n",
    "    print('Score {} final : {}'.format(k, score/kf.get_n_splits()))"
   ]
  },
  {
   "cell_type": "code",
   "execution_count": 49,
   "id": "483ce81b",
   "metadata": {},
   "outputs": [
    {
     "name": "stdout",
     "output_type": "stream",
     "text": [
      "R2 :  0.9367300781622593\n",
      "R2 :  0.9508467824077211\n",
      "R2 :  0.7973934253651531\n",
      "R2 :  0.9234314272606028\n",
      "R2 :  0.9717123246419705\n",
      "R2 :  0.35062060739756173\n",
      "R2 :  -1.1645638455118483\n",
      "R2 :  0.9361240024369618\n",
      "Score R2 final : 0.8789278116480098\n",
      "Score RMSE final : 97857438927088.27\n",
      "Score RMSLE final : 1.02635422468257\n"
     ]
    }
   ],
   "source": [
    "data_X_tmp = data_X[col_num]\n",
    "\n",
    "score_final = {'R2':0, 'RMSE':0, 'RMSLE':0}\n",
    "\n",
    "for train, test in kf.split(data_X_tmp):\n",
    "    regr = RandomForestRegressor(max_depth=5)\n",
    "    \n",
    "    # Entraînement\n",
    "    regr.fit(data_X_tmp.iloc[train], data_Y.iloc[train])\n",
    "\n",
    "    # Prédiction sur le jeu de test\n",
    "    y_pred = regr.predict(data_X_tmp.iloc[test])\n",
    "\n",
    "    \n",
    "    y_test = data_Y.iloc[test]\n",
    "    \n",
    "    # Evaluate\n",
    "    score = metrics.r2_score(y_test, y_pred)\n",
    "    print('R2 : ', score)\n",
    "    score_final['R2'] += abs(score)\n",
    "    \n",
    "    score = metrics.mean_squared_error(y_test, y_pred, squared=True)\n",
    "    #print('RMSE : ', score)\n",
    "    score_final['RMSE'] += score\n",
    "    \n",
    "    score = metrics.mean_squared_log_error(y_test.applymap(lambda x:max(0, x)), y_pred, squared=True)\n",
    "    #print('RMSLE : ', score)\n",
    "    score_final['RMSLE'] += score\n",
    "\n",
    "for k, score in score_final.items():\n",
    "    print('Score {} final : {}'.format(k, score/kf.get_n_splits()))"
   ]
  },
  {
   "cell_type": "code",
   "execution_count": null,
   "id": "3580e92f",
   "metadata": {},
   "outputs": [],
   "source": [
    "# Entraînement\n",
    "regr.fit(X_train, y_train)\n",
    "\n",
    "# Prédiction sur le jeu de test\n",
    "y_pred = regr.predict(X_test)\n",
    "\n",
    "# Evaluate\n",
    "print(metrics.r2_score(y_test, y_pred))"
   ]
  },
  {
   "cell_type": "code",
   "execution_count": null,
   "id": "714d0512",
   "metadata": {},
   "outputs": [],
   "source": []
  }
 ],
 "metadata": {
  "kernelspec": {
   "display_name": "Python 3 (ipykernel)",
   "language": "python",
   "name": "python3"
  },
  "language_info": {
   "codemirror_mode": {
    "name": "ipython",
    "version": 3
   },
   "file_extension": ".py",
   "mimetype": "text/x-python",
   "name": "python",
   "nbconvert_exporter": "python",
   "pygments_lexer": "ipython3",
   "version": "3.10.8"
  }
 },
 "nbformat": 4,
 "nbformat_minor": 5
}
