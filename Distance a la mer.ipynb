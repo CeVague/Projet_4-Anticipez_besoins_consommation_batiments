{
 "cells": [
  {
   "cell_type": "code",
   "execution_count": 1,
   "id": "f96fae1f",
   "metadata": {},
   "outputs": [],
   "source": [
    "from geopy.distance import geodesic\n",
    "import pandas as pd\n",
    "import numpy as np\n",
    "import pickle"
   ]
  },
  {
   "cell_type": "markdown",
   "id": "8706542a",
   "metadata": {},
   "source": [
    "## Chargement du polygone de délimitation des berges"
   ]
  },
  {
   "cell_type": "code",
   "execution_count": 2,
   "id": "511bf784",
   "metadata": {},
   "outputs": [],
   "source": [
    "pos_eau = []\n",
    "\n",
    "with open('./data/eau.txt') as f:\n",
    "    for line in f:\n",
    "        lon, lat = eval(line)\n",
    "        pos_eau += [(lat, lon)]"
   ]
  },
  {
   "cell_type": "code",
   "execution_count": 3,
   "id": "80203d3b",
   "metadata": {},
   "outputs": [],
   "source": [
    "lat_min, lat_max = pos_eau[0][0], pos_eau[0][0]\n",
    "lon_min, lon_max = pos_eau[0][1], pos_eau[0][1]\n",
    "\n",
    "for l in pos_eau:\n",
    "    lat = l[0]\n",
    "    lon = l[1]\n",
    "    lat_min, lat_max = min(lat_min, lat), max(lat_max, lat)\n",
    "    lon_min, lon_max = min(lon_min, lon), max(lon_max, lon)"
   ]
  },
  {
   "cell_type": "code",
   "execution_count": 4,
   "id": "3afa202a",
   "metadata": {},
   "outputs": [],
   "source": [
    "# Lat, Lon\n",
    "def distance_to_sea(point1):\n",
    "    global pos_eau\n",
    "    \n",
    "    distance = 100\n",
    "    \n",
    "    for point2 in pos_eau:\n",
    "        distance_tmp = geodesic(point1, point2).km\n",
    "        distance = min(distance_tmp, distance)\n",
    "        \n",
    "    return distance"
   ]
  },
  {
   "cell_type": "markdown",
   "id": "456c2acf",
   "metadata": {},
   "source": [
    "### Version plus rapide"
   ]
  },
  {
   "cell_type": "code",
   "execution_count": 5,
   "id": "a4e3d385",
   "metadata": {},
   "outputs": [],
   "source": [
    "def closest_node(node, nodes):\n",
    "    nodes = np.asarray(nodes)\n",
    "    dist_2 = np.sum((nodes - node)**2, axis=1)\n",
    "    return np.argmin(dist_2)"
   ]
  },
  {
   "cell_type": "code",
   "execution_count": 6,
   "id": "ceaeba75",
   "metadata": {},
   "outputs": [],
   "source": [
    "# Lat, Lon\n",
    "def distance_to_sea(point):\n",
    "    global pos_eau\n",
    "    \n",
    "    distance = 100\n",
    "    \n",
    "    i = closest_node(point, pos_eau)\n",
    "        \n",
    "    return geodesic(point, pos_eau[i]).km"
   ]
  },
  {
   "cell_type": "markdown",
   "id": "f29fba66",
   "metadata": {},
   "source": [
    "## Création d'une grille des distances"
   ]
  },
  {
   "cell_type": "code",
   "execution_count": 7,
   "id": "a5bbaa11",
   "metadata": {},
   "outputs": [],
   "source": [
    "t_x, t_y = 100, 200\n",
    "tmp_map = pd.DataFrame(columns=['Longitude', 'Latitude', 'Distance'])\n",
    "\n",
    "for lon in np.linspace(lon_min, lon_max, t_x):\n",
    "    for lat in np.linspace(lat_min, lat_max, t_y):\n",
    "        dist = distance_to_sea((lat, lon))\n",
    "        df2 = pd.DataFrame([[lon, lat, dist]], columns=['Longitude', 'Latitude', 'Distance'])\n",
    "        \n",
    "        tmp_map = pd.concat([tmp_map, df2])"
   ]
  },
  {
   "cell_type": "markdown",
   "id": "b06b807f",
   "metadata": {},
   "source": [
    "## Meilleure précision sur les bords de l'eau"
   ]
  },
  {
   "cell_type": "code",
   "execution_count": 8,
   "id": "b5b1a4da",
   "metadata": {},
   "outputs": [],
   "source": [
    "for lat, lon in pos_eau:\n",
    "    for lon in np.linspace(lon-0.01, lon+0.01, 10):\n",
    "        for lat in np.linspace(lat-0.01, lat+0.01, 10):\n",
    "            dist = distance_to_sea((lat, lon))\n",
    "            df2 = pd.DataFrame([[lon, lat, dist]], columns=['Longitude', 'Latitude', 'Distance'])\n",
    "\n",
    "            tmp_map = pd.concat([tmp_map, df2])"
   ]
  },
  {
   "cell_type": "markdown",
   "id": "2b0683ff",
   "metadata": {},
   "source": [
    "## Entrainement du modele"
   ]
  },
  {
   "cell_type": "code",
   "execution_count": 9,
   "id": "b4ee0812",
   "metadata": {},
   "outputs": [],
   "source": [
    "from sklearn.neighbors import KNeighborsRegressor"
   ]
  },
  {
   "cell_type": "code",
   "execution_count": 10,
   "id": "eb421742",
   "metadata": {},
   "outputs": [
    {
     "data": {
      "text/html": [
       "<style>#sk-container-id-1 {color: black;background-color: white;}#sk-container-id-1 pre{padding: 0;}#sk-container-id-1 div.sk-toggleable {background-color: white;}#sk-container-id-1 label.sk-toggleable__label {cursor: pointer;display: block;width: 100%;margin-bottom: 0;padding: 0.3em;box-sizing: border-box;text-align: center;}#sk-container-id-1 label.sk-toggleable__label-arrow:before {content: \"▸\";float: left;margin-right: 0.25em;color: #696969;}#sk-container-id-1 label.sk-toggleable__label-arrow:hover:before {color: black;}#sk-container-id-1 div.sk-estimator:hover label.sk-toggleable__label-arrow:before {color: black;}#sk-container-id-1 div.sk-toggleable__content {max-height: 0;max-width: 0;overflow: hidden;text-align: left;background-color: #f0f8ff;}#sk-container-id-1 div.sk-toggleable__content pre {margin: 0.2em;color: black;border-radius: 0.25em;background-color: #f0f8ff;}#sk-container-id-1 input.sk-toggleable__control:checked~div.sk-toggleable__content {max-height: 200px;max-width: 100%;overflow: auto;}#sk-container-id-1 input.sk-toggleable__control:checked~label.sk-toggleable__label-arrow:before {content: \"▾\";}#sk-container-id-1 div.sk-estimator input.sk-toggleable__control:checked~label.sk-toggleable__label {background-color: #d4ebff;}#sk-container-id-1 div.sk-label input.sk-toggleable__control:checked~label.sk-toggleable__label {background-color: #d4ebff;}#sk-container-id-1 input.sk-hidden--visually {border: 0;clip: rect(1px 1px 1px 1px);clip: rect(1px, 1px, 1px, 1px);height: 1px;margin: -1px;overflow: hidden;padding: 0;position: absolute;width: 1px;}#sk-container-id-1 div.sk-estimator {font-family: monospace;background-color: #f0f8ff;border: 1px dotted black;border-radius: 0.25em;box-sizing: border-box;margin-bottom: 0.5em;}#sk-container-id-1 div.sk-estimator:hover {background-color: #d4ebff;}#sk-container-id-1 div.sk-parallel-item::after {content: \"\";width: 100%;border-bottom: 1px solid gray;flex-grow: 1;}#sk-container-id-1 div.sk-label:hover label.sk-toggleable__label {background-color: #d4ebff;}#sk-container-id-1 div.sk-serial::before {content: \"\";position: absolute;border-left: 1px solid gray;box-sizing: border-box;top: 0;bottom: 0;left: 50%;z-index: 0;}#sk-container-id-1 div.sk-serial {display: flex;flex-direction: column;align-items: center;background-color: white;padding-right: 0.2em;padding-left: 0.2em;position: relative;}#sk-container-id-1 div.sk-item {position: relative;z-index: 1;}#sk-container-id-1 div.sk-parallel {display: flex;align-items: stretch;justify-content: center;background-color: white;position: relative;}#sk-container-id-1 div.sk-item::before, #sk-container-id-1 div.sk-parallel-item::before {content: \"\";position: absolute;border-left: 1px solid gray;box-sizing: border-box;top: 0;bottom: 0;left: 50%;z-index: -1;}#sk-container-id-1 div.sk-parallel-item {display: flex;flex-direction: column;z-index: 1;position: relative;background-color: white;}#sk-container-id-1 div.sk-parallel-item:first-child::after {align-self: flex-end;width: 50%;}#sk-container-id-1 div.sk-parallel-item:last-child::after {align-self: flex-start;width: 50%;}#sk-container-id-1 div.sk-parallel-item:only-child::after {width: 0;}#sk-container-id-1 div.sk-dashed-wrapped {border: 1px dashed gray;margin: 0 0.4em 0.5em 0.4em;box-sizing: border-box;padding-bottom: 0.4em;background-color: white;}#sk-container-id-1 div.sk-label label {font-family: monospace;font-weight: bold;display: inline-block;line-height: 1.2em;}#sk-container-id-1 div.sk-label-container {text-align: center;}#sk-container-id-1 div.sk-container {/* jupyter's `normalize.less` sets `[hidden] { display: none; }` but bootstrap.min.css set `[hidden] { display: none !important; }` so we also need the `!important` here to be able to override the default hidden behavior on the sphinx rendered scikit-learn.org. See: https://github.com/scikit-learn/scikit-learn/issues/21755 */display: inline-block !important;position: relative;}#sk-container-id-1 div.sk-text-repr-fallback {display: none;}</style><div id=\"sk-container-id-1\" class=\"sk-top-container\"><div class=\"sk-text-repr-fallback\"><pre>KNeighborsRegressor(n_neighbors=2, weights=&#x27;distance&#x27;)</pre><b>In a Jupyter environment, please rerun this cell to show the HTML representation or trust the notebook. <br />On GitHub, the HTML representation is unable to render, please try loading this page with nbviewer.org.</b></div><div class=\"sk-container\" hidden><div class=\"sk-item\"><div class=\"sk-estimator sk-toggleable\"><input class=\"sk-toggleable__control sk-hidden--visually\" id=\"sk-estimator-id-1\" type=\"checkbox\" checked><label for=\"sk-estimator-id-1\" class=\"sk-toggleable__label sk-toggleable__label-arrow\">KNeighborsRegressor</label><div class=\"sk-toggleable__content\"><pre>KNeighborsRegressor(n_neighbors=2, weights=&#x27;distance&#x27;)</pre></div></div></div></div></div>"
      ],
      "text/plain": [
       "KNeighborsRegressor(n_neighbors=2, weights='distance')"
      ]
     },
     "execution_count": 10,
     "metadata": {},
     "output_type": "execute_result"
    }
   ],
   "source": [
    "neigh = KNeighborsRegressor(n_neighbors=2, weights='distance')\n",
    "neigh.fit(tmp_map[['Longitude', 'Latitude']], tmp_map['Distance'])"
   ]
  },
  {
   "cell_type": "markdown",
   "id": "300700a3",
   "metadata": {},
   "source": [
    "## Sauvegarde pour utilisation ultérieure"
   ]
  },
  {
   "cell_type": "code",
   "execution_count": 11,
   "id": "c22ff19c",
   "metadata": {},
   "outputs": [],
   "source": [
    "with open('./data/dist_model.plk', 'wb') as file:\n",
    "    pickle.dump(neigh, file)"
   ]
  }
 ],
 "metadata": {
  "kernelspec": {
   "display_name": "Python 3 (ipykernel)",
   "language": "python",
   "name": "python3"
  },
  "language_info": {
   "codemirror_mode": {
    "name": "ipython",
    "version": 3
   },
   "file_extension": ".py",
   "mimetype": "text/x-python",
   "name": "python",
   "nbconvert_exporter": "python",
   "pygments_lexer": "ipython3",
   "version": "3.10.8"
  }
 },
 "nbformat": 4,
 "nbformat_minor": 5
}
